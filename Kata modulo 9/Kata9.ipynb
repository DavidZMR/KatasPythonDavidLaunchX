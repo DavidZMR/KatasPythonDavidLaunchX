{
 "cells": [
  {
   "cell_type": "markdown",
   "metadata": {},
   "source": [
    "## Ejercicio 1: Trabajar con argumentos en funciones"
   ]
  },
  {
   "cell_type": "code",
   "execution_count": 6,
   "metadata": {},
   "outputs": [
    {
     "name": "stdout",
     "output_type": "stream",
     "text": [
      "Informe\n",
      "    --------------------------\n",
      "    tanque 1: 80\n",
      "    tanque 2: 90\n",
      "    tanque 3: 100\n",
      "    promedio: 90.0\n"
     ]
    }
   ],
   "source": [
    "# Función para leer 3 tanques de combustible y muestre el promedio\n",
    "#def funcion1(tanque1,tanque2,tanque3):\n",
    "    #promedio = (tanque1 + tanque2 + tanque3)/3\n",
    "    #return f\"\"\"Informe\n",
    "    #--------------------------\n",
    "    #tanque 1: {tanque1}\n",
    "    #tanque 2: {tanque2}\n",
    "    #tanque 3: {tanque3}\n",
    "    #promedio: {promedio}\"\"\"\n",
    "\n",
    "# Llamamos a la función que genera el reporte print(funcion(tanque1, tanque2, tanque3))\n",
    "\n",
    "#print(funcion1(80,90,100))\n",
    "\n",
    "# Función promedio \n",
    "\n",
    "def promedio(t1,t2,t3):\n",
    "    aux = (t1 + t2 + t3)/3\n",
    "    return float(aux)\n",
    "\n",
    "# Actualiza la función\n",
    "\n",
    "def funcion1(tanque1,tanque2,tanque3):\n",
    "    prom = promedio(tanque1,tanque2,tanque3)\n",
    "    return f\"\"\"Informe\n",
    "    --------------------------\n",
    "    tanque 1: {tanque1}\n",
    "    tanque 2: {tanque2}\n",
    "    tanque 3: {tanque3}\n",
    "    promedio: {prom}\"\"\"\n",
    "\n",
    "print(funcion1(80,90,100))"
   ]
  },
  {
   "cell_type": "markdown",
   "metadata": {},
   "source": [
    "# Ejercicio 2: Trabajo con argumentos de palabra clave"
   ]
  },
  {
   "cell_type": "code",
   "execution_count": 20,
   "metadata": {},
   "outputs": [
    {
     "name": "stdout",
     "output_type": "stream",
     "text": [
      "-------Informe--------\n",
      "    hora de prelanzamiento: 13\n",
      "    tiempo de vuelo:        23\n",
      "    destino:                marte\n",
      "    tanque externo:         20000\n",
      "    tanque interno:         30000\n",
      "-------Informe--------\n",
      "    hora de prelanzamiento: 15\n",
      "    minutos:                80\n",
      "    destino:                luna\n",
      "    tanques:                40000\n",
      "-------Informe--------\n",
      "    hora de prelanzamiento: 15\n",
      "    minutos:                80\n",
      "    destino:                luna\n",
      "    total en tanques:       40000 \n",
      "tanque 1: interno con 10000 galones \n",
      "tanque 2: externo con 30000 galones \n",
      "\n"
     ]
    }
   ],
   "source": [
    "# Función con un informe preciso de la misión. Considera hora de prelanzamiento, tiempo de vuelo, destino, tanque externo y tanque interno\n",
    "def informe(hora,tiempo,destino,tanque_e,tanque_i):\n",
    "    return f\"\"\"-------Informe--------\n",
    "    hora de prelanzamiento: {hora}\n",
    "    tiempo de vuelo:        {tiempo}\n",
    "    destino:                {destino}\n",
    "    tanque externo:         {tanque_e}\n",
    "    tanque interno:         {tanque_i}\"\"\"\n",
    "\n",
    "print(informe(13,23,'marte',20000,30000))\n",
    "\n",
    "# Escribe tu nueva función de reporte considerando lo anterior\n",
    "\n",
    "def new_informe(hora,destino,*minutos,**tanques):\n",
    "    return f\"\"\"-------Informe--------\n",
    "    hora de prelanzamiento: {hora}\n",
    "    minutos:                {sum(minutos)}\n",
    "    destino:                {destino}\n",
    "    tanques:                {sum(tanques.values())}\"\"\"\n",
    "\n",
    "print(new_informe(15,'luna',15,25,40,interno=10000,externo=30000))\n",
    "\n",
    "# Escribe tu nueva función\n",
    "\n",
    "def new_informe2(hora,destino,*minutos,**tanques):\n",
    "    mensaje = f\"\"\"-------Informe--------\n",
    "    hora de prelanzamiento: {hora}\n",
    "    minutos:                {sum(minutos)}\n",
    "    destino:                {destino}\n",
    "    total en tanques:       {sum(tanques.values())} \\n\"\"\"\n",
    "    i = 1\n",
    "    for tanque,fuel in tanques.items():\n",
    "        mensaje += f\"tanque {i}: {tanque} con {fuel} galones \\n\"\n",
    "        i += 1\n",
    "    return mensaje\n",
    "\n",
    "print(new_informe2(15,'luna',15,25,40,interno=10000,externo=30000))\n"
   ]
  }
 ],
 "metadata": {
  "interpreter": {
   "hash": "63fd5069d213b44bf678585dea6b12cceca9941eaf7f819626cde1f2670de90d"
  },
  "kernelspec": {
   "display_name": "Python 3.9.5 64-bit",
   "language": "python",
   "name": "python3"
  },
  "language_info": {
   "codemirror_mode": {
    "name": "ipython",
    "version": 3
   },
   "file_extension": ".py",
   "mimetype": "text/x-python",
   "name": "python",
   "nbconvert_exporter": "python",
   "pygments_lexer": "ipython3",
   "version": "3.9.5"
  },
  "orig_nbformat": 4
 },
 "nbformat": 4,
 "nbformat_minor": 2
}
