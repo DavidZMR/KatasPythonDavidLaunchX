{
 "cells": [
  {
   "cell_type": "markdown",
   "metadata": {},
   "source": [
    "# Añadir el código necesario para crear una variable que guarde la velocidad del asteroide.\n",
    "# Escribe una expresión de prueba para calcular si necesita una advertencia.\n",
    "# Agregue las instrucciones que se ejecutarán si la expresión de prueba es true o false."
   ]
  },
  {
   "cell_type": "code",
   "execution_count": 2,
   "metadata": {},
   "outputs": [
    {
     "name": "stdout",
     "output_type": "stream",
     "text": [
      "ningun asteroide cerca\n"
     ]
    }
   ],
   "source": [
    "velocidad_asteroide = 25\n",
    "if velocidad_asteroide >= 25:\n",
    "    print(\"cuidado un asteroide se acerca\")\n",
    "else:\n",
    "     print(\"ningun asteroide cerca\")\n"
   ]
  },
  {
   "cell_type": "markdown",
   "metadata": {},
   "source": [
    "# Agrega el código para crear una variable para un asteroide que viaja a 19 km/s\n",
    "# Escribe varias expresiones de prueba para determinar si puedes ver el rayo de luz desde la tierra\n",
    "# Agrega las instrucciones que se ejecutarán si las expresiones de prueba son True o False"
   ]
  },
  {
   "cell_type": "code",
   "execution_count": 4,
   "metadata": {},
   "outputs": [
    {
     "name": "stdout",
     "output_type": "stream",
     "text": [
      "se puede ver un rayo de luz\n"
     ]
    }
   ],
   "source": [
    "velocidad_asteroide = 19\n",
    "if velocidad_asteroide >= 20:\n",
    "    print(\"se puede ver un rayo de luz\")\n",
    "else:\n",
    "    print(\"no se observa nada\")"
   ]
  },
  {
   "cell_type": "markdown",
   "metadata": {},
   "source": [
    "# Agrega el código para crear nuevas variables para la velocidad y el tamaño del asteroide\n",
    "# Para probar el código, prueba con varias velocidades y tamaños\n",
    "# Escribe varias expresiones de prueba o combinaciones de expresiones de prueba para determinar qué mensaje se debe enviar a Tierra."
   ]
  },
  {
   "cell_type": "code",
   "execution_count": 8,
   "metadata": {},
   "outputs": [
    {
     "name": "stdout",
     "output_type": "stream",
     "text": [
      "el asteroide se quemara en 30 minutos\n",
      "se puede observar una luz en el cielo\n"
     ]
    }
   ],
   "source": [
    "velocidad = 26\n",
    "diametro = 24\n",
    "if diametro > 25 and velocidad > 25 :\n",
    "    print(\"cuidado el asteroide causara mucho daño\")\n",
    "elif velocidad >= 20 :\n",
    "    print(\"se puede observar una luz en el cielo\")\n",
    "elif diametro < 25:\n",
    "    print(\"el asteroide se quemara en 30 minutos\")\n",
    "else: \n",
    "    print(\"no hay peligros\")\n",
    "\n"
   ]
  }
 ],
 "metadata": {
  "interpreter": {
   "hash": "63fd5069d213b44bf678585dea6b12cceca9941eaf7f819626cde1f2670de90d"
  },
  "kernelspec": {
   "display_name": "Python 3.9.5 64-bit",
   "language": "python",
   "name": "python3"
  },
  "language_info": {
   "codemirror_mode": {
    "name": "ipython",
    "version": 3
   },
   "file_extension": ".py",
   "mimetype": "text/x-python",
   "name": "python",
   "nbconvert_exporter": "python",
   "pygments_lexer": "ipython3",
   "version": "3.9.5"
  },
  "orig_nbformat": 4
 },
 "nbformat": 4,
 "nbformat_minor": 2
}
